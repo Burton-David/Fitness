{
 "cells": [
  {
   "cell_type": "markdown",
   "metadata": {},
   "source": [
    "<H1>Bench Press<H1>\n",
    "<br>\n",
    "Optimal time under tension workouts are done at greater than 60% 1 rep max.   Depending on targeted muscle group, duration should be min.30 to 60 seconds.\n",
    " ---"
   ]
  },
  {
   "cell_type": "markdown",
   "metadata": {},
   "source": [
    "#### Figuring out your 1rm \n",
    "- ##### The Brzycki Formula\n",
    "    - WEIGHT/(1.0278-(0.0278 * NUMBER OF REPS)<br>\n",
    "    \n",
    "- ##### The Baechle Formula\n",
    "    - WEIGHT * (1+(0.033 x NUMBER OF REPETITIONS))\n",
    "    ---\n",
    "- [a video talking about 1 rep max]( https://www.youtube.com/watch?v=cX6UtZiPWO8)"
   ]
  },
  {
   "cell_type": "code",
   "execution_count": 20,
   "metadata": {},
   "outputs": [],
   "source": [
    "weight = int(input('What would you like your working weight to be for 8 sets of flat bench press?'))\n",
    "reps=8\n",
    "brzycki_one_rep_max_flat_bench_press = round(weight/(1.0278-(0.0278*reps)))\n",
    "baechle_one_rep_max_flat_bench_press = round(weight*(1+(0.033*reps)))"
   ]
  },
  {
   "cell_type": "code",
   "execution_count": 24,
   "metadata": {},
   "outputs": [
    {
     "name": "stdout",
     "output_type": "stream",
     "text": [
      "The brzycki_one_rep_max_flat_bench_press is 168\n",
      "The baechle_one_rep_max_flat_bench_press is 171\n"
     ]
    }
   ],
   "source": [
    "# Sanity Check\n",
    "print(f\"The brzycki_one_rep_max_flat_bench_press is {brzycki_one_rep_max_flat_bench_press}\")\n",
    "print(f\"The baechle_one_rep_max_flat_bench_press is {baechle_one_rep_max_flat_bench_press}\")"
   ]
  },
  {
   "cell_type": "code",
   "execution_count": 25,
   "metadata": {},
   "outputs": [],
   "source": [
    "one_rep_max = int(input('1RM'))"
   ]
  },
  {
   "cell_type": "code",
   "execution_count": 30,
   "metadata": {},
   "outputs": [
    {
     "data": {
      "text/plain": [
       "126.0"
      ]
     },
     "execution_count": 30,
     "metadata": {},
     "output_type": "execute_result"
    }
   ],
   "source": [
    "working_weight = one_rep_max * .75\n",
    "working_weight"
   ]
  },
  {
   "cell_type": "code",
   "execution_count": 23,
   "metadata": {},
   "outputs": [],
   "source": [
    "# Feel free to change the number of reps per set\n",
    "first_set_reps = 12\n",
    "second_set_reps = 10\n",
    "third_set_reps = 8\n",
    "#fourth set will be time under tension (60% 1 rep max 2 seconds up 4 seconds down tempo)\n",
    "fourth_set_reps = 6"
   ]
  },
  {
   "cell_type": "code",
   "execution_count": 31,
   "metadata": {},
   "outputs": [],
   "source": [
    "third_set_total_volume = working_weight*third_set_reps"
   ]
  },
  {
   "cell_type": "code",
   "execution_count": 32,
   "metadata": {},
   "outputs": [],
   "source": [
    "first_set_weight = third_set_total_volume/first_set_reps\n",
    "second_set_weight = third_set_total_volume/second_set_reps\n",
    "third_set_weight = working_weight\n",
    "#fourth set will be time under tension (60% 1 rep max 2 seconds up 4 seconds down tempo)\n",
    "fourth_set_weight = one_rep_max*.6"
   ]
  },
  {
   "cell_type": "code",
   "execution_count": 38,
   "metadata": {},
   "outputs": [
    {
     "data": {
      "text/plain": [
       "84.0"
      ]
     },
     "execution_count": 38,
     "metadata": {},
     "output_type": "execute_result"
    }
   ],
   "source": [
    "first_set_weight\n",
    "# second_set_weight\n",
    "# third_set_weight\n",
    "# fourth_set_weight"
   ]
  },
  {
   "cell_type": "markdown",
   "metadata": {},
   "source": [
    "<br>10 minute warm-up<br>\n",
    "* Stationary bike<br>\n",
    "\n",
    "<br>Mobility training<br>\n",
    "* shoulder -interior, exterior on cable\n",
    "* hip opening stretches\n",
    "* 50 second stretch regular circuit\n",
    "\n",
    "<br>Chest<br>\n",
    "* flys <br>\n",
    "    weight [30,35,40]<br>\n",
    "    reps   [12,10,8]<br>\n",
    "\n",
    "* flat <br>\n",
    "    weights[115,115,125,115*]<br>\n",
    "    reps   [12,10,8]<br>\n",
    "\n",
    "* incline [95,95,95,95*]\n",
    "* dips\n",
    "\n",
    "<br>Shoulders<br>\n",
    "* military press\n",
    "* side lateral raise dumbells\n",
    "\n",
    "<br>Triceps<br>\n",
    "superset<br>\n",
    "* cable push down\n",
    "* single dumbell overhead extensions"
   ]
  },
  {
   "cell_type": "code",
   "execution_count": null,
   "metadata": {},
   "outputs": [],
   "source": []
  }
 ],
 "metadata": {
  "kernelspec": {
   "display_name": "Python 3.9.7 64-bit ('3.9.7')",
   "language": "python",
   "name": "python3"
  },
  "language_info": {
   "codemirror_mode": {
    "name": "ipython",
    "version": 3
   },
   "file_extension": ".py",
   "mimetype": "text/x-python",
   "name": "python",
   "nbconvert_exporter": "python",
   "pygments_lexer": "ipython3",
   "version": "3.9.7"
  },
  "orig_nbformat": 4,
  "vscode": {
   "interpreter": {
    "hash": "1c8aac4a631cf122ce9cceea2f5909a876a0cbb445cda27b5bec6bb67fd32c55"
   }
  }
 },
 "nbformat": 4,
 "nbformat_minor": 2
}
