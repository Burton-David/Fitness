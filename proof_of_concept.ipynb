{
 "cells": [
  {
   "cell_type": "code",
   "execution_count": 1,
   "metadata": {},
   "outputs": [
    {
     "data": {
      "text/plain": [
       "1"
      ]
     },
     "execution_count": 1,
     "metadata": {},
     "output_type": "execute_result"
    }
   ],
   "source": []
  },
  {
   "cell_type": "markdown",
   "metadata": {},
   "source": [
    "Applying what we know about muscle growth into a personalized routine.  \n",
    "\n",
    "This routine will attempt to optimize both types of muscular hypertrophy. \n",
    "* Myofibrillar-Size \n",
    "* Sarcoplasmic-glycogen storage capacity<br>\n",
    "<br>Through a well thought out routine that will utilize personal data to craft the ideal activities."
   ]
  },
  {
   "cell_type": "code",
   "execution_count": 2,
   "metadata": {},
   "outputs": [
    {
     "data": {
      "text/plain": [
       "\"\\nsudo code\\ntime_under_tension_dict = {'flat_bench_press':{seconds:90,\\n                                                reps:7,\\n                                                weight:225}},\\n                            'incline_bench_press':{seconds:90,\\n                                                reps:7,\\n                                                weight:110}\\n\\nShould setup mongodb after proof of concept and run in Django\\n\""
      ]
     },
     "execution_count": 2,
     "metadata": {},
     "output_type": "execute_result"
    }
   ],
   "source": [
    "# create a dictionary of exercises for every muscle group\n",
    "# each type of exercise will need a dict of dicts\n",
    "\n",
    "# sudo code\n",
    "# time_under_tension_dict = {'flat_bench_press':{seconds:90,\n",
    "#                                                 reps:7,\n",
    "#                                                 weight:225}},\n",
    "#                             'incline_bench_press':{seconds:90,\n",
    "#                                                 reps:7,\n",
    "#                                                 weight:110}\n",
    "\n",
    "# Should setup mongodb after proof of concept and run in Django\n",
    "\n"
   ]
  },
  {
   "cell_type": "code",
   "execution_count": null,
   "metadata": {},
   "outputs": [],
   "source": []
  }
 ],
 "metadata": {
  "kernelspec": {
   "display_name": "Python 3.9.4 64-bit ('3.9.4')",
   "language": "python",
   "name": "python3"
  },
  "language_info": {
   "codemirror_mode": {
    "name": "ipython",
    "version": 3
   },
   "file_extension": ".py",
   "mimetype": "text/x-python",
   "name": "python",
   "nbconvert_exporter": "python",
   "pygments_lexer": "ipython3",
   "version": "3.9.4"
  },
  "orig_nbformat": 4,
  "vscode": {
   "interpreter": {
    "hash": "76c5bde237be0108b3840faa1126368095ab851e325bacfa1734c9c26f7c4762"
   }
  }
 },
 "nbformat": 4,
 "nbformat_minor": 2
}
